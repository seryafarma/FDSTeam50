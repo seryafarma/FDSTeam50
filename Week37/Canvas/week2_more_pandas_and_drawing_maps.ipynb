{
 "cells": [
  {
   "cell_type": "markdown",
   "metadata": {},
   "source": [
    "<h1>Fundamentals of Data Science, Introduction week 2</h1>"
   ]
  },
  {
   "cell_type": "markdown",
   "metadata": {},
   "source": [
    "**GOAL** In this notebook we are going to cover the following practical aspects of data science:\n",
    "\n",
    "- Reading a csv file and loading it to a dataframe in python using pandas library\n",
    "- Filtering out the required columns in the dataframe\n",
    "- Summarising data based on the fields. Ex: Summing up all the rows corresponding to a certain entry in the dataset\n",
    "- Plot shape of United States using the geographic data i.e. data with all the coordinates\n",
    "- Scale and move the states using data of the coordinates\n",
    "- Colour the states based on the average age of their population"
   ]
  },
  {
   "cell_type": "markdown",
   "metadata": {},
   "source": [
    "To complete this assignment you need to have a running Anaconda installation with Python 3.6 or 3.7 on your device. Python package prerequisites include:\n",
    "+  **pandas**\n",
    "+  **gdal**\n",
    "+  **shapely**\n",
    "+  **descartes**\n",
    "\n",
    "To get these packages installed type 'conda install {package}' into the terminal (linux) or the Anaconda prompt (Windows), for each package you don't have. Gdal can be a bit fussy, there is an alternative install method at the end of this notebook."
   ]
  },
  {
   "cell_type": "markdown",
   "metadata": {},
   "source": [
    "**Pandas** is a Python package providing fast, flexible, and expressive data structures designed to make working with “relational” or “labeled” data both easy and intuitive. It aims to be the fundamental high-level building block for doing practical, real world data analysis in Python. Additionally, it has the broader goal of becoming the most powerful and flexible open source data analysis / manipulation tool available in any language. It is already well on its way toward this goal.\n",
    "\n",
    "Pandas is well suited for many different kinds of data:\n",
    "\n",
    "- Tabular data with heterogeneously-typed columns, as in an SQL table or Excel spreadsheet\n",
    "- Ordered and unordered (not necessarily fixed-frequency) time series data.\n",
    "- Arbitrary matrix data (homogeneously typed or heterogeneous) with row and column labels\n",
    "- Any other form of observational / statistical data sets. The data actually need not be labeled at all to be placed into a pandas data structure\n",
    "\n",
    "The two primary data structures of pandas, Series (1-dimensional) and DataFrame (2-dimensional), handle the vast majority of typical use cases in finance, statistics, social science, and many areas of engineering. "
   ]
  },
  {
   "cell_type": "code",
   "execution_count": null,
   "metadata": {},
   "outputs": [],
   "source": [
    "# Import all the libraries required\n",
    "import os\n",
    "import json\n",
    "import numpy as np\n",
    "import pandas as pd\n",
    "import matplotlib.pyplot as plt\n",
    "import matplotlib.cm as cm\n",
    "from matplotlib.colors import rgb2hex\n",
    "from descartes import PolygonPatch\n",
    "from shapely.geometry import Polygon, MultiPolygon"
   ]
  },
  {
   "cell_type": "markdown",
   "metadata": {},
   "source": [
    "<h3>A look at the data</h3>\n",
    "Throughout this assignment, the dataset that we would be using will be the US population statistics 2010-2016. It can be downloaded from https://www2.census.gov/programs-surveys/popest/datasets/2010-2016/state/asrh/."
   ]
  },
  {
   "cell_type": "markdown",
   "metadata": {},
   "source": [
    "As a first step, we will structure the data into a pandas DataFrame to simplify the data manipulation. We will start by loading the csv file of data into a DataFrame called population_data and we will then filter columns based on our use. *Take a look at the data and its fields*"
   ]
  },
  {
   "cell_type": "code",
   "execution_count": null,
   "metadata": {},
   "outputs": [],
   "source": [
    "population_data = pd.read_csv('sc-est2016-agesex-civ.csv')\n",
    "# For viewing the complete dataset\n",
    "population_data"
   ]
  },
  {
   "cell_type": "code",
   "execution_count": null,
   "metadata": {},
   "outputs": [],
   "source": [
    "population_data.shape"
   ]
  },
  {
   "cell_type": "markdown",
   "metadata": {},
   "source": [
    "The complete dataset has 13,572 rows and 15 columns. It can be verified by looking at the shape of your dataframe by <i>population_data.shape</i>. To select specific columns, create a list of column names and view the dataframe as:"
   ]
  },
  {
   "cell_type": "code",
   "execution_count": null,
   "metadata": {},
   "outputs": [],
   "source": [
    "# Filtering the data by the columns ['NAME','SEX','AGE','POPEST2016_CIV']\n",
    "population_data[['NAME','SEX','AGE','POPEST2016_CIV']]"
   ]
  },
  {
   "cell_type": "code",
   "execution_count": null,
   "metadata": {},
   "outputs": [],
   "source": [
    "# Filters out data for all sexes and all age group and store in a new dataframe 'population_data_all'\n",
    "population_data_all = population_data[population_data['SEX']==0]\n",
    "population_data_all = population_data_all[population_data_all['AGE']!=999]"
   ]
  },
  {
   "cell_type": "code",
   "execution_count": null,
   "metadata": {},
   "outputs": [],
   "source": [
    "# Sum the population of each state for each year on the dataset 'population_data_all'\n",
    "population_sums = population_data_all.groupby(by=['NAME'], as_index=False)[['POPEST2010_CIV','POPEST2011_CIV','POPEST2012_CIV',\n",
    "                                              'POPEST2013_CIV','POPEST2014_CIV','POPEST2015_CIV','POPEST2016_CIV']].sum()"
   ]
  },
  {
   "cell_type": "markdown",
   "metadata": {},
   "source": [
    "         "
   ]
  },
  {
   "cell_type": "markdown",
   "metadata": {},
   "source": [
    "<h3> Get a US states geojson file </h3>        \n",
    "Sources\n",
    "- ArcGIS shapefile of US 50 states + DC (https://www.arcgis.com/home/item.html?id=f7f805eb65eb4ab787a0a3e1116ca7e5)\n",
    "<h4> Recommended – convert to GeoJSON </h4>   \n",
    "<i> ogr2ogr  -f  GeoJSON  [name1].shp [name2].geojson   </i> - where, 'name1' is the name of the downloaded shp file and 'name2' is the name you want to specify for the geojson file\n",
    "\n",
    "** NOTE: ** If you are having trouble with this, or you are using Windows, then you can also use https://mapshaper.org/ to convert between formats. During the upload to mapshaper you need to upload <u>all</u> the files from the states_21basic.zip file before conversion. Otherwise you will miss relevant features. "
   ]
  },
  {
   "cell_type": "code",
   "execution_count": null,
   "metadata": {},
   "outputs": [],
   "source": [
    "S_DIR = r'C:\\Users\\A\\Downloads' \n",
    "BLUE = '#5599ff'\n",
    "\n",
    "with open(os.path.join(S_DIR, 'states.json')) as rf:    \n",
    "    data = json.load(rf)\n",
    "\n",
    "fig = plt.figure() \n",
    "ax = fig.gca()\n",
    "for feature in data['features']:\n",
    "    geometry = feature['geometry']\n",
    "    if geometry['type'] == 'Polygon':\n",
    "        poly = geometry\n",
    "        ppatch = PolygonPatch(poly, fc=BLUE, ec=BLUE,  alpha=0.5, zorder=2)\n",
    "        ax.add_patch(ppatch)\n",
    "    elif geometry['type'] == 'MultiPolygon':\n",
    "        for polygon in geometry['coordinates'][0]:\n",
    "            poly = Polygon(polygon)\n",
    "            ppatch = PolygonPatch(poly, fc=BLUE, ec=BLUE, alpha=0.5, zorder=2)\n",
    "            ax.add_patch(ppatch)\n",
    "    else:\n",
    "        print('Don\\'t know how to draw :', geometry['type'])\n",
    "\n",
    "ax.axis('scaled')\n",
    "plt.axis('off')\n",
    "plt.show()"
   ]
  },
  {
   "cell_type": "markdown",
   "metadata": {},
   "source": [
    "**TASKS** <font color=\"red\">\n",
    "<h3> Improve the map </h3>\n",
    "    \n",
    "1) Try a different projection (example: US Census Bureau shapefile)\n",
    "    \n",
    "2) Resize and move Alaska \n",
    "\n",
    "3) Color the map based on the average age of each state for the year 2016 \n"
   ]
  },
  {
   "cell_type": "code",
   "execution_count": null,
   "metadata": {},
   "outputs": [],
   "source": []
  },
  {
   "cell_type": "code",
   "execution_count": null,
   "metadata": {},
   "outputs": [],
   "source": []
  },
  {
   "cell_type": "code",
   "execution_count": null,
   "metadata": {},
   "outputs": [],
   "source": []
  },
  {
   "cell_type": "markdown",
   "metadata": {},
   "source": [
    "<h3> Installations for GDAL </h3>\n",
    "\n",
    "** IMPORTANT NOTE ** Only follow these if 'conda install gdal' does not work\n",
    "\n",
    "GDAL - Geospatial Data Abstraction Library <br>\n",
    "    http://www.gdal.org/index.html\n",
    "\n",
    "For example,\n",
    "** On Linux Fedora:** \n",
    "         <ul><i>yum install libpng</i>   \n",
    "         <i> yum install libtiff </i>  \n",
    "         <i> sudo dnf install gdal gdal-devel</i><br>\n",
    "         \n",
    "** In Ubuntu:**\n",
    "         <ul><i>sudo add-apt-repository ppa:ubuntugis/ppa && sudo apt-get update</i>   \n",
    "         <i> sudo apt-get install gdal-bin </i>  \n",
    "         <i> To verify after installation, try: $ ogrinfo</i><br>\n",
    "         <i> If the installation was successful, you will see something like this:\n",
    "\n",
    "+ Usage: ogrinfo [--help-general] [-ro] [-q] [-where restricted_where]\n",
    "               [-spat xmin ymin xmax ymax] [-fid fid]\n",
    "               [-sql statement] [-al] [-so] [-fields={YES/NO}]\n",
    "               [-geom={YES/NO/SUMMARY}][--formats]\n",
    "               datasource_name [layer [layer ...]]\n",
    "</i><br>\n",
    "        \n",
    "**In Windows:**\n",
    "         Refer to https://sandbox.idre.ucla.edu/sandbox/tutorials/installing-gdal-for-windows   "
   ]
  },
  {
   "cell_type": "code",
   "execution_count": null,
   "metadata": {},
   "outputs": [],
   "source": []
  }
 ],
 "metadata": {
  "kernelspec": {
   "display_name": "Python 3",
   "language": "python",
   "name": "python3"
  },
  "language_info": {
   "codemirror_mode": {
    "name": "ipython",
    "version": 3
   },
   "file_extension": ".py",
   "mimetype": "text/x-python",
   "name": "python",
   "nbconvert_exporter": "python",
   "pygments_lexer": "ipython3",
   "version": "3.7.0"
  }
 },
 "nbformat": 4,
 "nbformat_minor": 2
}
