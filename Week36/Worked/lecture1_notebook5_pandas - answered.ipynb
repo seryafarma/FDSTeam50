{
 "cells": [
  {
   "cell_type": "markdown",
   "metadata": {},
   "source": [
    "<h1><center> Lecture 1 Pandas notebook </center></h1>\n",
    "\n",
    "In this notebook you will see Pandas. The main purpose of using this notebook is simply to confirm that you can run it and understand what it is doing without difficulty. \n",
    "\n",
    "**Questions** are in bold. These are not mandatory or graded, they are simply to encourage you to think how you could answer them.\n",
    "\n",
    "Contacts are in the first point the TAs:\n",
    "\n",
    "Cristian Rodriguez Rivero: c.m.rodriguezrivero@uva.nl\n",
    "\n",
    "Sara Mahdavi Hezavehi: s.mahdavihezavehi@uva.nl \n",
    "\n",
    "Reshmi Gopalakrishna Pillai: r.gopalakrishnapillai@uva.nl \n",
    "\n",
    "Tom van Sonsbeek: t.j.vansonsbeek@uva.nl \n",
    "\n",
    "Jia-Hong Huang: j.huang@uva.nl\n",
    "\n",
    "or in the second point, the course coordinator\n",
    "\n",
    "Andrew Brown: a.g.brown@uva.nl"
   ]
  },
  {
   "cell_type": "code",
   "execution_count": 1,
   "metadata": {},
   "outputs": [],
   "source": [
    "import numpy as np\n",
    "import pandas as pd"
   ]
  },
  {
   "cell_type": "markdown",
   "metadata": {},
   "source": [
    "<h1><center> Series </center></h1>"
   ]
  },
  {
   "cell_type": "code",
   "execution_count": 2,
   "metadata": {},
   "outputs": [
    {
     "data": {
      "text/plain": [
       "0    20\n",
       "1    21\n",
       "2    22\n",
       "3    23\n",
       "4    24\n",
       "dtype: int32"
      ]
     },
     "execution_count": 2,
     "metadata": {},
     "output_type": "execute_result"
    }
   ],
   "source": [
    "integer_numpy_array = np.arange(20,25)\n",
    "pandas_series = pd.Series(integer_numpy_array)\n",
    "pandas_series"
   ]
  },
  {
   "cell_type": "code",
   "execution_count": 3,
   "metadata": {},
   "outputs": [],
   "source": [
    "list_of_strings = [\"don't\", \"throw\", \"it\", \"out\", \"the\", \"window\"]\n",
    "pandas_series = pd.Series(list_of_strings)"
   ]
  },
  {
   "cell_type": "markdown",
   "metadata": {},
   "source": [
    "**Q: Can you make a dataframe from a Python Dict?**"
   ]
  },
  {
   "cell_type": "markdown",
   "metadata": {},
   "source": [
    "**A**"
   ]
  },
  {
   "cell_type": "code",
   "execution_count": 15,
   "metadata": {},
   "outputs": [
    {
     "name": "stdout",
     "output_type": "stream",
     "text": [
      "         color\n",
      "apple      red\n",
      "orange  orange\n",
      "mango   yellow\n",
      "grape   purple\n"
     ]
    }
   ],
   "source": [
    "dicti = {'apple': 'red', 'orange': 'orange', 'mango': 'yellow', 'grape':'purple'}\n",
    "#print(dicti)\n",
    "df = pd.DataFrame.from_dict(dicti, orient='index', columns=['color'])\n",
    "print(df)"
   ]
  },
  {
   "cell_type": "markdown",
   "metadata": {},
   "source": [
    "<h1><center> Dataframes </center></h1>"
   ]
  },
  {
   "cell_type": "code",
   "execution_count": 4,
   "metadata": {},
   "outputs": [
    {
     "data": {
      "text/html": [
       "<div>\n",
       "<style scoped>\n",
       "    .dataframe tbody tr th:only-of-type {\n",
       "        vertical-align: middle;\n",
       "    }\n",
       "\n",
       "    .dataframe tbody tr th {\n",
       "        vertical-align: top;\n",
       "    }\n",
       "\n",
       "    .dataframe thead th {\n",
       "        text-align: right;\n",
       "    }\n",
       "</style>\n",
       "<table border=\"1\" class=\"dataframe\">\n",
       "  <thead>\n",
       "    <tr style=\"text-align: right;\">\n",
       "      <th></th>\n",
       "      <th>SIC2008PrivateFirmsGovernment</th>\n",
       "      <th>Periods</th>\n",
       "      <th>VacanciesSeasonallyAdjusted_1</th>\n",
       "    </tr>\n",
       "    <tr>\n",
       "      <th>ID</th>\n",
       "      <th></th>\n",
       "      <th></th>\n",
       "      <th></th>\n",
       "    </tr>\n",
       "  </thead>\n",
       "  <tbody>\n",
       "    <tr>\n",
       "      <th>1806</th>\n",
       "      <td>part</td>\n",
       "      <td>1997KW01</td>\n",
       "      <td>73.8</td>\n",
       "    </tr>\n",
       "    <tr>\n",
       "      <th>1807</th>\n",
       "      <td>part</td>\n",
       "      <td>1997KW02</td>\n",
       "      <td>74.9</td>\n",
       "    </tr>\n",
       "    <tr>\n",
       "      <th>1808</th>\n",
       "      <td>part</td>\n",
       "      <td>1997KW03</td>\n",
       "      <td>96.5</td>\n",
       "    </tr>\n",
       "    <tr>\n",
       "      <th>1809</th>\n",
       "      <td>part</td>\n",
       "      <td>1997KW04</td>\n",
       "      <td>113.0</td>\n",
       "    </tr>\n",
       "    <tr>\n",
       "      <th>1810</th>\n",
       "      <td>part</td>\n",
       "      <td>1998KW01</td>\n",
       "      <td>115.6</td>\n",
       "    </tr>\n",
       "  </tbody>\n",
       "</table>\n",
       "</div>"
      ],
      "text/plain": [
       "     SIC2008PrivateFirmsGovernment   Periods  VacanciesSeasonallyAdjusted_1\n",
       "ID                                                                         \n",
       "1806                        part    1997KW01                           73.8\n",
       "1807                        part    1997KW02                           74.9\n",
       "1808                        part    1997KW03                           96.5\n",
       "1809                        part    1997KW04                          113.0\n",
       "1810                        part    1998KW01                          115.6"
      ]
     },
     "execution_count": 4,
     "metadata": {},
     "output_type": "execute_result"
    }
   ],
   "source": [
    "dataframe = pd.read_csv(\"NL_vacancies_2019.csv\", sep=\";\", index_col='ID')\n",
    "dataframe.head()"
   ]
  },
  {
   "cell_type": "markdown",
   "metadata": {},
   "source": [
    "**Q: Have a look around on the CBS website. What other statistics interest you? https://opendata.cbs.nl/statline/portal.html?_la=en&_catalog=CBS**"
   ]
  },
  {
   "cell_type": "markdown",
   "metadata": {},
   "source": [
    "**A**"
   ]
  },
  {
   "cell_type": "markdown",
   "metadata": {},
   "source": [
    "Salary\n",
    "\n",
    "https://opendata.cbs.nl/statline/portal.html?_la=en&_catalog=CBS&tableId=84163ENG&_theme=1059"
   ]
  },
  {
   "cell_type": "markdown",
   "metadata": {},
   "source": [
    "<h1><center> Data Manipulation </center></h1>"
   ]
  },
  {
   "cell_type": "code",
   "execution_count": 5,
   "metadata": {},
   "outputs": [
    {
     "data": {
      "text/html": [
       "<div>\n",
       "<style scoped>\n",
       "    .dataframe tbody tr th:only-of-type {\n",
       "        vertical-align: middle;\n",
       "    }\n",
       "\n",
       "    .dataframe tbody tr th {\n",
       "        vertical-align: top;\n",
       "    }\n",
       "\n",
       "    .dataframe thead th {\n",
       "        text-align: right;\n",
       "    }\n",
       "</style>\n",
       "<table border=\"1\" class=\"dataframe\">\n",
       "  <thead>\n",
       "    <tr style=\"text-align: right;\">\n",
       "      <th></th>\n",
       "      <th>EmployerType</th>\n",
       "      <th>Date</th>\n",
       "      <th>Vacancies</th>\n",
       "    </tr>\n",
       "    <tr>\n",
       "      <th>ID</th>\n",
       "      <th></th>\n",
       "      <th></th>\n",
       "      <th></th>\n",
       "    </tr>\n",
       "  </thead>\n",
       "  <tbody>\n",
       "    <tr>\n",
       "      <th>1981</th>\n",
       "      <td>Government</td>\n",
       "      <td>2018-04-01</td>\n",
       "      <td>18.8</td>\n",
       "    </tr>\n",
       "    <tr>\n",
       "      <th>1982</th>\n",
       "      <td>Government</td>\n",
       "      <td>2018-07-01</td>\n",
       "      <td>19.1</td>\n",
       "    </tr>\n",
       "    <tr>\n",
       "      <th>1983</th>\n",
       "      <td>Government</td>\n",
       "      <td>2018-10-01</td>\n",
       "      <td>20.1</td>\n",
       "    </tr>\n",
       "    <tr>\n",
       "      <th>1984</th>\n",
       "      <td>Government</td>\n",
       "      <td>2019-01-01</td>\n",
       "      <td>20.6</td>\n",
       "    </tr>\n",
       "    <tr>\n",
       "      <th>1985</th>\n",
       "      <td>Government</td>\n",
       "      <td>2019-04-01</td>\n",
       "      <td>22.5</td>\n",
       "    </tr>\n",
       "  </tbody>\n",
       "</table>\n",
       "</div>"
      ],
      "text/plain": [
       "       EmployerType       Date  Vacancies\n",
       "ID                                       \n",
       "1981  Government    2018-04-01       18.8\n",
       "1982  Government    2018-07-01       19.1\n",
       "1983  Government    2018-10-01       20.1\n",
       "1984  Government    2019-01-01       20.6\n",
       "1985  Government    2019-04-01       22.5"
      ]
     },
     "execution_count": 5,
     "metadata": {},
     "output_type": "execute_result"
    }
   ],
   "source": [
    "dataframe.rename(columns={'SIC2008PrivateFirmsGovernment':'EmployerType',\n",
    "                          'Periods':'Date',\n",
    "                          'VacanciesSeasonallyAdjusted_1':'Vacancies'}, inplace=True)\n",
    "dataframe['Date'] = pd.to_datetime(dataframe['Date'].str.replace('KW0', 'Q'))\n",
    "dataframe['EmployerType'] = dataframe['EmployerType'].str.replace(\"ovh\",\"Government\")\n",
    "dataframe['EmployerType'] = dataframe['EmployerType'].str.replace(\"part\",\"Private\")\n",
    "dataframe.tail()"
   ]
  },
  {
   "cell_type": "markdown",
   "metadata": {
    "scrolled": true
   },
   "source": [
    "**Q: How do you print the entire dataframe, not just .head() or .tail()?**"
   ]
  },
  {
   "cell_type": "markdown",
   "metadata": {},
   "source": [
    "**A**"
   ]
  },
  {
   "cell_type": "code",
   "execution_count": 16,
   "metadata": {},
   "outputs": [
    {
     "name": "stdout",
     "output_type": "stream",
     "text": [
      "       EmployerType       Date  Vacancies\n",
      "ID                                       \n",
      "1806      Private   1997-01-01       73.8\n",
      "1807      Private   1997-04-01       74.9\n",
      "1808      Private   1997-07-01       96.5\n",
      "1809      Private   1997-10-01      113.0\n",
      "1810      Private   1998-01-01      115.6\n",
      "...             ...        ...        ...\n",
      "1981  Government    2018-04-01       18.8\n",
      "1982  Government    2018-07-01       19.1\n",
      "1983  Government    2018-10-01       20.1\n",
      "1984  Government    2019-01-01       20.6\n",
      "1985  Government    2019-04-01       22.5\n",
      "\n",
      "[180 rows x 3 columns]\n"
     ]
    }
   ],
   "source": [
    "print(dataframe)"
   ]
  },
  {
   "cell_type": "markdown",
   "metadata": {},
   "source": [
    "<h1><center> Plotting </center></h1>"
   ]
  },
  {
   "cell_type": "code",
   "execution_count": 6,
   "metadata": {},
   "outputs": [
    {
     "data": {
      "image/png": "[encoded data removed]",
      "text/plain": [
       "<Figure size 432x288 with 1 Axes>"
      ]
     },
     "metadata": {
      "needs_background": "light"
     },
     "output_type": "display_data"
    }
   ],
   "source": [
    "%matplotlib inline\n",
    "\n",
    "df_gov = dataframe[dataframe['EmployerType'].str.match('Government')]\n",
    "df_priv = dataframe[dataframe['EmployerType'].str.match('Private')]\n",
    "ax = df_gov.plot('Date','Vacancies',color='red',title='',label = 'Gov. Vac. (x1,000)')\n",
    "ax = df_priv.plot('Date','Vacancies',color='blue',title='', label = 'Priv. Vac. (x1,000)', ax=ax)\n",
    "ylims = ax.set_ylim(0,300)"
   ]
  },
  {
   "cell_type": "markdown",
   "metadata": {},
   "source": [
    "**Q: Can you plot only a subset of this data - say between 2000 and 2010? (NOT using ax.set_xlim )**"
   ]
  },
  {
   "cell_type": "markdown",
   "metadata": {},
   "source": [
    "**A**"
   ]
  },
  {
   "cell_type": "code",
   "execution_count": 25,
   "metadata": {},
   "outputs": [
    {
     "data": {
      "image/png": "[encoded data removed]",
      "text/plain": [
       "<Figure size 432x288 with 1 Axes>"
      ]
     },
     "metadata": {
      "needs_background": "light"
     },
     "output_type": "display_data"
    }
   ],
   "source": [
    "df_gov_subset = df_gov[(df_gov.Date >= '2000-01-01') & (df_gov.Date <= '2010-12-31')]\n",
    "df_priv_subset = df_priv[(df_priv.Date >= '2000-01-01') & (df_priv.Date <= '2010-12-31')]\n",
    "\n",
    "ax = df_gov_subset.plot('Date','Vacancies',color='red',title='',label = 'Gov. Vac. (x1,000)')\n",
    "ax = df_priv_subset.plot('Date','Vacancies',color='blue',title='', label = 'Priv. Vac. (x1,000)', ax=ax)\n"
   ]
  },
  {
   "cell_type": "markdown",
   "metadata": {},
   "source": [
    "<h1><center> join/concat/merge </center></h1>"
   ]
  },
  {
   "cell_type": "code",
   "execution_count": 7,
   "metadata": {},
   "outputs": [
    {
     "data": {
      "text/html": [
       "<div>\n",
       "<style scoped>\n",
       "    .dataframe tbody tr th:only-of-type {\n",
       "        vertical-align: middle;\n",
       "    }\n",
       "\n",
       "    .dataframe tbody tr th {\n",
       "        vertical-align: top;\n",
       "    }\n",
       "\n",
       "    .dataframe thead th {\n",
       "        text-align: right;\n",
       "    }\n",
       "</style>\n",
       "<table border=\"1\" class=\"dataframe\">\n",
       "  <thead>\n",
       "    <tr style=\"text-align: right;\">\n",
       "      <th></th>\n",
       "      <th>Date</th>\n",
       "      <th>EmployerType_x</th>\n",
       "      <th>Vacancies_x</th>\n",
       "      <th>EmployerType_y</th>\n",
       "      <th>Vacancies_y</th>\n",
       "      <th>AllVacancies</th>\n",
       "    </tr>\n",
       "  </thead>\n",
       "  <tbody>\n",
       "    <tr>\n",
       "      <th>0</th>\n",
       "      <td>1997-01-01</td>\n",
       "      <td>Government</td>\n",
       "      <td>10.0</td>\n",
       "      <td>Private</td>\n",
       "      <td>73.8</td>\n",
       "      <td>83.8</td>\n",
       "    </tr>\n",
       "    <tr>\n",
       "      <th>1</th>\n",
       "      <td>1997-04-01</td>\n",
       "      <td>Government</td>\n",
       "      <td>11.2</td>\n",
       "      <td>Private</td>\n",
       "      <td>74.9</td>\n",
       "      <td>86.1</td>\n",
       "    </tr>\n",
       "    <tr>\n",
       "      <th>2</th>\n",
       "      <td>1997-07-01</td>\n",
       "      <td>Government</td>\n",
       "      <td>11.1</td>\n",
       "      <td>Private</td>\n",
       "      <td>96.5</td>\n",
       "      <td>107.6</td>\n",
       "    </tr>\n",
       "    <tr>\n",
       "      <th>3</th>\n",
       "      <td>1997-10-01</td>\n",
       "      <td>Government</td>\n",
       "      <td>9.9</td>\n",
       "      <td>Private</td>\n",
       "      <td>113.0</td>\n",
       "      <td>122.9</td>\n",
       "    </tr>\n",
       "    <tr>\n",
       "      <th>4</th>\n",
       "      <td>1998-01-01</td>\n",
       "      <td>Government</td>\n",
       "      <td>12.4</td>\n",
       "      <td>Private</td>\n",
       "      <td>115.6</td>\n",
       "      <td>128.0</td>\n",
       "    </tr>\n",
       "  </tbody>\n",
       "</table>\n",
       "</div>"
      ],
      "text/plain": [
       "        Date EmployerType_x  Vacancies_x EmployerType_y  Vacancies_y  \\\n",
       "0 1997-01-01  Government            10.0      Private           73.8   \n",
       "1 1997-04-01  Government            11.2      Private           74.9   \n",
       "2 1997-07-01  Government            11.1      Private           96.5   \n",
       "3 1997-10-01  Government             9.9      Private          113.0   \n",
       "4 1998-01-01  Government            12.4      Private          115.6   \n",
       "\n",
       "   AllVacancies  \n",
       "0          83.8  \n",
       "1          86.1  \n",
       "2         107.6  \n",
       "3         122.9  \n",
       "4         128.0  "
      ]
     },
     "execution_count": 7,
     "metadata": {},
     "output_type": "execute_result"
    }
   ],
   "source": [
    "df_gov = df_gov[[\"Date\",\"EmployerType\",\"Vacancies\"]] \n",
    "df_combined = pd.merge(df_gov,df_priv,how='outer', on='Date')\n",
    "df_combined['AllVacancies'] = df_combined['Vacancies_x'] + df_combined['Vacancies_y']\n",
    "df_combined.head()"
   ]
  },
  {
   "cell_type": "code",
   "execution_count": 8,
   "metadata": {},
   "outputs": [
    {
     "data": {
      "image/png": "[encoded data removed]",
      "text/plain": [
       "<Figure size 432x288 with 1 Axes>"
      ]
     },
     "metadata": {
      "needs_background": "light"
     },
     "output_type": "display_data"
    }
   ],
   "source": [
    "ax = df_gov.plot('Date','Vacancies',color='red',title='',label = 'Gov. Vac. (x1,000)')\n",
    "ax = df_priv.plot('Date','Vacancies',color='blue',title='', label = 'Priv. Vac. (x1,000)', ax=ax)\n",
    "ax = df_combined.plot('Date','AllVacancies',color='green',title='NL Job Vacancies',label ='All Vac. (x1,000)', ax=ax)\n",
    "ylims = ax.set_ylim(0,300)"
   ]
  },
  {
   "cell_type": "markdown",
   "metadata": {},
   "source": [
    "**Q: How would you combine the two dataframes df_gov and df_priv to recover the original, combined dataframe?**"
   ]
  },
  {
   "cell_type": "markdown",
   "metadata": {},
   "source": [
    "**A**"
   ]
  },
  {
   "cell_type": "markdown",
   "metadata": {},
   "source": [
    "Question is not that clear to me, combining dataframes can be done using pd.merge as shown above."
   ]
  },
  {
   "cell_type": "markdown",
   "metadata": {},
   "source": [
    "<h1><center> Data in, data out </center></h1>"
   ]
  },
  {
   "cell_type": "code",
   "execution_count": 9,
   "metadata": {},
   "outputs": [],
   "source": [
    "df_combined.to_excel('NL_job_vacancies_2019.xlsx')"
   ]
  },
  {
   "cell_type": "markdown",
   "metadata": {},
   "source": [
    "**Q: Can you open this .xlsx file, change something, save the file, then reload the changes into Pandas?** "
   ]
  },
  {
   "cell_type": "markdown",
   "metadata": {},
   "source": [
    "**A**"
   ]
  },
  {
   "cell_type": "markdown",
   "metadata": {},
   "source": [
    "You can use read excel: \n",
    "\n",
    "https://pandas.pydata.org/pandas-docs/stable/reference/api/pandas.read_excel.html"
   ]
  }
 ],
 "metadata": {
  "kernelspec": {
   "display_name": "Python 3",
   "language": "python",
   "name": "python3"
  },
  "language_info": {
   "codemirror_mode": {
    "name": "ipython",
    "version": 3
   },
   "file_extension": ".py",
   "mimetype": "text/x-python",
   "name": "python",
   "nbconvert_exporter": "python",
   "pygments_lexer": "ipython3",
   "version": "3.7.6"
  }
 },
 "nbformat": 4,
 "nbformat_minor": 2
}
