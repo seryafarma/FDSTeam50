{
 "cells": [
  {
   "cell_type": "markdown",
   "metadata": {},
   "source": [
    "<h1><center> Lecture 1 Pandas notebook </center></h1>\n",
    "\n",
    "In this notebook you will see Pandas. The main purpose of using this notebook is simply to confirm that you can run it and understand what it is doing without difficulty. \n",
    "\n",
    "**Questions** are in bold. These are not mandatory or graded, they are simply to encourage you to think how you could answer them.\n",
    "\n",
    "Contacts are in the first point the TAs:\n",
    "\n",
    "Cristian Rodriguez Rivero: c.m.rodriguezrivero@uva.nl\n",
    "\n",
    "Sara Mahdavi Hezavehi: s.mahdavihezavehi@uva.nl \n",
    "\n",
    "Reshmi Gopalakrishna Pillai: r.gopalakrishnapillai@uva.nl \n",
    "\n",
    "Tom van Sonsbeek: t.j.vansonsbeek@uva.nl \n",
    "\n",
    "Jia-Hong Huang: j.huang@uva.nl\n",
    "\n",
    "or in the second point, the course coordinator\n",
    "\n",
    "Andrew Brown: a.g.brown@uva.nl"
   ]
  },
  {
   "cell_type": "code",
   "execution_count": null,
   "metadata": {},
   "outputs": [],
   "source": [
    "import numpy as np\n",
    "import pandas as pd"
   ]
  },
  {
   "cell_type": "markdown",
   "metadata": {},
   "source": [
    "<h1><center> Series </center></h1>"
   ]
  },
  {
   "cell_type": "code",
   "execution_count": null,
   "metadata": {},
   "outputs": [],
   "source": [
    "integer_numpy_array = np.arange(20,25)\n",
    "pandas_series = pd.Series(integer_numpy_array)\n",
    "pandas_series"
   ]
  },
  {
   "cell_type": "code",
   "execution_count": null,
   "metadata": {},
   "outputs": [],
   "source": [
    "list_of_strings = [\"don't\", \"throw\", \"it\", \"out\", \"the\", \"window\"]\n",
    "pandas_series = pd.Series(list_of_strings)"
   ]
  },
  {
   "cell_type": "markdown",
   "metadata": {},
   "source": [
    "**Q: Can you make a dataframe from a Python Dict?**"
   ]
  },
  {
   "cell_type": "markdown",
   "metadata": {},
   "source": [
    "<h1><center> Dataframes </center></h1>"
   ]
  },
  {
   "cell_type": "code",
   "execution_count": null,
   "metadata": {},
   "outputs": [],
   "source": [
    "dataframe = pd.read_csv(\"NL_vacancies_2019.csv\", sep=\";\", index_col='ID')\n",
    "dataframe.head()"
   ]
  },
  {
   "cell_type": "markdown",
   "metadata": {},
   "source": [
    "**Q: Have a look around on the CBS website. What other statistics interest you? https://opendata.cbs.nl/statline/portal.html?_la=en&_catalog=CBS**"
   ]
  },
  {
   "cell_type": "markdown",
   "metadata": {},
   "source": [
    "<h1><center> Data Manipulation </center></h1>"
   ]
  },
  {
   "cell_type": "code",
   "execution_count": null,
   "metadata": {},
   "outputs": [],
   "source": [
    "dataframe.rename(columns={'SIC2008PrivateFirmsGovernment':'EmployerType',\n",
    "                          'Periods':'Date',\n",
    "                          'VacanciesSeasonallyAdjusted_1':'Vacancies'}, inplace=True)\n",
    "dataframe['Date'] = pd.to_datetime(dataframe['Date'].str.replace('KW0', 'Q'))\n",
    "dataframe['EmployerType'] = dataframe['EmployerType'].str.replace(\"ovh\",\"Government\")\n",
    "dataframe['EmployerType'] = dataframe['EmployerType'].str.replace(\"part\",\"Private\")\n",
    "dataframe.tail()"
   ]
  },
  {
   "cell_type": "markdown",
   "metadata": {
    "scrolled": true
   },
   "source": [
    "**Q: How do you print the entire dataframe, not just .head() or .tail()?**"
   ]
  },
  {
   "cell_type": "markdown",
   "metadata": {},
   "source": [
    "<h1><center> Plotting </center></h1>"
   ]
  },
  {
   "cell_type": "code",
   "execution_count": null,
   "metadata": {},
   "outputs": [],
   "source": [
    "%matplotlib inline\n",
    "\n",
    "df_gov = dataframe[dataframe['EmployerType'].str.match('Government')]\n",
    "df_priv = dataframe[dataframe['EmployerType'].str.match('Private')]\n",
    "ax = df_gov.plot('Date','Vacancies',color='red',title='',label = 'Gov. Vac. (x1,000)')\n",
    "ax = df_priv.plot('Date','Vacancies',color='blue',title='', label = 'Priv. Vac. (x1,000)', ax=ax)\n",
    "ylims = ax.set_ylim(0,300)"
   ]
  },
  {
   "cell_type": "markdown",
   "metadata": {},
   "source": [
    "**Q: Can you plot only a subset of this data - say between 2000 and 2010? (NOT using ax.set_xlim )**"
   ]
  },
  {
   "cell_type": "markdown",
   "metadata": {},
   "source": [
    "<h1><center> join/concat/merge </center></h1>"
   ]
  },
  {
   "cell_type": "code",
   "execution_count": null,
   "metadata": {},
   "outputs": [],
   "source": [
    "df_gov = df_gov[[\"Date\",\"EmployerType\",\"Vacancies\"]] \n",
    "df_combined = pd.merge(df_gov,df_priv,how='outer', on='Date')\n",
    "df_combined['AllVacancies'] = df_combined['Vacancies_x'] + df_combined['Vacancies_y']\n",
    "df_combined.head()"
   ]
  },
  {
   "cell_type": "code",
   "execution_count": null,
   "metadata": {},
   "outputs": [],
   "source": [
    "ax = df_gov.plot('Date','Vacancies',color='red',title='',label = 'Gov. Vac. (x1,000)')\n",
    "ax = df_priv.plot('Date','Vacancies',color='blue',title='', label = 'Priv. Vac. (x1,000)', ax=ax)\n",
    "ax = df_combined.plot('Date','AllVacancies',color='green',title='NL Job Vacancies',label ='All Vac. (x1,000)', ax=ax)\n",
    "ylims = ax.set_ylim(0,300)"
   ]
  },
  {
   "cell_type": "markdown",
   "metadata": {},
   "source": [
    "**Q: How would you combine the two dataframes df_gov and df_priv to recover the original, combined dataframe?**"
   ]
  },
  {
   "cell_type": "markdown",
   "metadata": {},
   "source": [
    "<h1><center> Data in, data out </center></h1>"
   ]
  },
  {
   "cell_type": "code",
   "execution_count": null,
   "metadata": {},
   "outputs": [],
   "source": [
    "df_combined.to_excel('NL_job_vacancies_2019.xlsx')"
   ]
  },
  {
   "cell_type": "markdown",
   "metadata": {},
   "source": [
    "**Q: Can you open this .xlsx file, change something, save the file, then reload the changes into Pandas?** "
   ]
  }
 ],
 "metadata": {
  "kernelspec": {
   "display_name": "Python 3",
   "language": "python",
   "name": "python3"
  },
  "language_info": {
   "codemirror_mode": {
    "name": "ipython",
    "version": 3
   },
   "file_extension": ".py",
   "mimetype": "text/x-python",
   "name": "python",
   "nbconvert_exporter": "python",
   "pygments_lexer": "ipython3",
   "version": "3.7.0"
  }
 },
 "nbformat": 4,
 "nbformat_minor": 2
}
