{
 "cells": [
  {
   "cell_type": "markdown",
   "metadata": {},
   "source": [
    "<h1><center> Lecture 1 Matplotlib notebook </center></h1>\n",
    "\n",
    "In this notebook you will see Matplotlib in use. The main purpose of using this notebook is simply to confirm that you can run it and understand what it is doing without difficulty. \n",
    "\n",
    "**Questions** are in bold. These are not mandatory or graded, they are simply to encourage you to think how you could answer them.\n",
    "\n",
    "Contacts are in the first point the TAs:\n",
    "\n",
    "Cristian Rodriguez Rivero: c.m.rodriguezrivero@uva.nl\n",
    "\n",
    "Sara Mahdavi Hezavehi: s.mahdavihezavehi@uva.nl \n",
    "\n",
    "Reshmi Gopalakrishna Pillai: r.gopalakrishnapillai@uva.nl \n",
    "\n",
    "Tom van Sonsbeek: t.j.vansonsbeek@uva.nl \n",
    "\n",
    "Jia-Hong Huang: j.huang@uva.nl\n",
    "\n",
    "or in the second point, the course coordinator\n",
    "\n",
    "Andrew Brown: a.g.brown@uva.nl\n",
    "\n",
    "**Note:** Unfortunately it was getting a bit complicated to include the puppy image files with this notebook, so these slides of the lecture are not in here. Apologies to the puppy lovers."
   ]
  },
  {
   "cell_type": "markdown",
   "metadata": {},
   "source": [
    "<h1><center> Graphs </center></h1>"
   ]
  },
  {
   "cell_type": "code",
   "execution_count": null,
   "metadata": {},
   "outputs": [],
   "source": [
    "import numpy as np\n",
    "import matplotlib.pyplot as plt\n",
    "%matplotlib inline "
   ]
  },
  {
   "cell_type": "code",
   "execution_count": null,
   "metadata": {},
   "outputs": [],
   "source": [
    "x = np.linspace(0,24,1000)\n",
    "y = (np.cos(x)+1.0)*50\n",
    "_ = plt.plot(x,y,c='red')\n",
    "_ = plt.title(\"Amount of work done preparing this lecture (arb. units)\")\n",
    "_ = plt.xlabel(\"Time of day (h)\")"
   ]
  },
  {
   "cell_type": "markdown",
   "metadata": {},
   "source": [
    "**Q: Make a graph of an exponential function (e^x). How can you change the y axes to make this graph be a straight line?** (Hint: Google for matplotlib log scaling)"
   ]
  },
  {
   "cell_type": "markdown",
   "metadata": {},
   "source": [
    "<h1><center> Histograms </center></h1>"
   ]
  },
  {
   "cell_type": "code",
   "execution_count": null,
   "metadata": {},
   "outputs": [],
   "source": [
    "import numpy as np\n",
    "import matplotlib.pyplot as plt\n",
    "%matplotlib inline "
   ]
  },
  {
   "cell_type": "code",
   "execution_count": null,
   "metadata": {},
   "outputs": [],
   "source": [
    "samples = np.random.normal(loc=10.0, scale=2.0, size=10000)\n",
    "bins = np.linspace(0,20,201)\n",
    "_ = plt.hist(samples,bins)"
   ]
  },
  {
   "cell_type": "markdown",
   "metadata": {},
   "source": [
    "**Q: Can you add a label to this histogram?**"
   ]
  },
  {
   "cell_type": "markdown",
   "metadata": {},
   "source": [
    "<h1><center> Multiple Histograms </center></h1>"
   ]
  },
  {
   "cell_type": "code",
   "execution_count": null,
   "metadata": {},
   "outputs": [],
   "source": [
    "samples1 = np.random.normal(loc=5.0,  scale=1.0, size=10000)\n",
    "samples2 = np.random.normal(loc=10.0, scale=3.0, size=10000)\n",
    "bins = np.linspace(0,25,251)\n",
    "_ = plt.hist(samples1,bins,color='red')\n",
    "_ = plt.hist(samples2,bins,color='green')"
   ]
  },
  {
   "cell_type": "markdown",
   "metadata": {},
   "source": [
    "**Q: Can you make the colour shading of these histograms semi-transparent?** (Hint: Google for matplotlib histogram alpha)"
   ]
  },
  {
   "cell_type": "markdown",
   "metadata": {},
   "source": [
    "<h1><center> 2D Histograms </center></h1>"
   ]
  },
  {
   "cell_type": "code",
   "execution_count": null,
   "metadata": {},
   "outputs": [],
   "source": [
    "from matplotlib.colors import LogNorm\n",
    "x = np.random.normal(loc=0.0,scale=0.25,size=10000)\n",
    "y = np.random.normal(loc=0.2,scale=0.15,size=10000)\n",
    "xbins = np.linspace(-1,1,21)\n",
    "ybins = np.linspace(-1,1,21)\n",
    "plt.hist2d(x, y, bins=[xbins,ybins], norm=LogNorm(), cmap='plasma')\n",
    "plt.colorbar()\n",
    "plt.show()"
   ]
  },
  {
   "cell_type": "markdown",
   "metadata": {},
   "source": [
    "**Q: How do you change the color map?**"
   ]
  },
  {
   "cell_type": "markdown",
   "metadata": {},
   "source": [
    "<h1><center> Scatter plots </center></h1>"
   ]
  },
  {
   "cell_type": "code",
   "execution_count": null,
   "metadata": {},
   "outputs": [],
   "source": [
    "num_students = 140\n",
    "height = np.random.normal(loc=170,scale=10,size=num_students)\n",
    "weight = height*7/17+np.random.normal(loc=0,scale=10,size=num_students)\n",
    "course_heightweight_figure = plt.scatter(x=height,y=weight)\n",
    "_ = plt.xlabel('Student Height (cm)')\n",
    "_ = plt.ylabel('Student Weight (kg)')"
   ]
  },
  {
   "cell_type": "markdown",
   "metadata": {},
   "source": [
    "**Q: How do you change the x and y ranges of this plot?**"
   ]
  },
  {
   "cell_type": "markdown",
   "metadata": {},
   "source": [
    "<h1><center> Colour scatter plots </center></h1>"
   ]
  },
  {
   "cell_type": "code",
   "execution_count": null,
   "metadata": {},
   "outputs": [],
   "source": [
    "num_students = 140\n",
    "height = np.random.normal(loc=170,scale=10,size=num_students)\n",
    "weight = height*7.5/17+np.random.normal(loc=0,scale=10,size=num_students)\n",
    "grade_awarded_in_fundamentals = ((weight-75)-(height-170))+50"
   ]
  },
  {
   "cell_type": "code",
   "execution_count": null,
   "metadata": {},
   "outputs": [],
   "source": [
    "course_grade_figure = plt.scatter(x=height,y=weight,c=grade_awarded_in_fundamentals, cmap='seismic')\n",
    "_ = plt.xlabel('Student Height (cm)')\n",
    "_ = plt.ylabel('Student Weight (kg)')\n",
    "plt.colorbar(label='Grade in Fundamentals of Data Science')\n",
    "plt.clim(0,100)"
   ]
  },
  {
   "cell_type": "markdown",
   "metadata": {},
   "source": [
    "**Q: Try some other colour maps (e.g. jet). Does this look good? How would you pick a colour map?**"
   ]
  }
 ],
 "metadata": {
  "kernelspec": {
   "display_name": "Python 3",
   "language": "python",
   "name": "python3"
  },
  "language_info": {
   "codemirror_mode": {
    "name": "ipython",
    "version": 3
   },
   "file_extension": ".py",
   "mimetype": "text/x-python",
   "name": "python",
   "nbconvert_exporter": "python",
   "pygments_lexer": "ipython3",
   "version": "3.7.0"
  }
 },
 "nbformat": 4,
 "nbformat_minor": 2
}
