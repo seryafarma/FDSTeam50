{
 "cells": [
  {
   "cell_type": "markdown",
   "metadata": {},
   "source": [
    "<h1><center> Lecture 1 NumPy notebook </center></h1>\n",
    "\n",
    "In this notebook you will see NumPy in use. The main purpose of using this notebook is simply to confirm that you can run it and understand what it is doing without difficulty. \n",
    "\n",
    "**Questions** are in bold. These are not mandatory or graded, they are simply to encourage you to think how you could answer them.\n",
    "\n",
    "Contacts are in the first point the TAs:\n",
    "\n",
    "Cristian Rodriguez Rivero: c.m.rodriguezrivero@uva.nl\n",
    "\n",
    "Sara Mahdavi Hezavehi: s.mahdavihezavehi@uva.nl \n",
    "\n",
    "Reshmi Gopalakrishna Pillai: r.gopalakrishnapillai@uva.nl \n",
    "\n",
    "Tom van Sonsbeek: t.j.vansonsbeek@uva.nl \n",
    "\n",
    "Jia-Hong Huang: j.huang@uva.nl\n",
    "\n",
    "or in the second point, the course coordinator\n",
    "\n",
    "Andrew Brown: a.g.brown@uva.nl"
   ]
  },
  {
   "cell_type": "markdown",
   "metadata": {},
   "source": [
    "<h1><center> Arrays </center></h1>"
   ]
  },
  {
   "cell_type": "code",
   "execution_count": null,
   "metadata": {},
   "outputs": [],
   "source": [
    "import numpy as np"
   ]
  },
  {
   "cell_type": "code",
   "execution_count": null,
   "metadata": {},
   "outputs": [],
   "source": [
    "list_of_numbers = [10,11,12,13,14,15,16,17,18]\n",
    "numpy_array_of_numbers = np.array(list_of_numbers)\n",
    "numpy_array_of_numbers"
   ]
  },
  {
   "cell_type": "code",
   "execution_count": null,
   "metadata": {},
   "outputs": [],
   "source": [
    "another_numpy_array = np.arange(10,19)\n",
    "another_numpy_array"
   ]
  },
  {
   "cell_type": "code",
   "execution_count": null,
   "metadata": {},
   "outputs": [],
   "source": [
    "print(numpy_array_of_numbers.shape, another_numpy_array.shape)"
   ]
  },
  {
   "cell_type": "markdown",
   "metadata": {},
   "source": [
    "**Q: Can you make a numpy array of only even numbers between 10 and 20, without using a loop?**"
   ]
  },
  {
   "cell_type": "markdown",
   "metadata": {},
   "source": [
    "<h1><center> Extracting data </center></h1>"
   ]
  },
  {
   "cell_type": "code",
   "execution_count": null,
   "metadata": {},
   "outputs": [],
   "source": [
    "yet_another_numpy_array = np.array([20,21,22,23,24,25,26,27,28,29])\n",
    "yet_another_numpy_array"
   ]
  },
  {
   "cell_type": "code",
   "execution_count": null,
   "metadata": {},
   "outputs": [],
   "source": [
    "yet_another_numpy_array[5]"
   ]
  },
  {
   "cell_type": "code",
   "execution_count": null,
   "metadata": {},
   "outputs": [],
   "source": [
    "yet_another_numpy_array[3:]"
   ]
  },
  {
   "cell_type": "code",
   "execution_count": null,
   "metadata": {},
   "outputs": [],
   "source": [
    "yet_another_numpy_array[:-2]"
   ]
  },
  {
   "cell_type": "markdown",
   "metadata": {},
   "source": [
    "**Q: How would you only select valyes between the \"4th from last\" to the \"2nd from last\" entries of this array?**"
   ]
  },
  {
   "cell_type": "markdown",
   "metadata": {},
   "source": [
    "<h1><center> 2D Arrays </center></h1>"
   ]
  },
  {
   "cell_type": "code",
   "execution_count": null,
   "metadata": {},
   "outputs": [],
   "source": [
    "a_numpy_2d_array = np.array([[11,12],[13,14]])\n",
    "a_numpy_2d_array"
   ]
  },
  {
   "cell_type": "code",
   "execution_count": null,
   "metadata": {},
   "outputs": [],
   "source": [
    "a_numpy_2d_array[1,0]"
   ]
  },
  {
   "cell_type": "code",
   "execution_count": null,
   "metadata": {},
   "outputs": [],
   "source": [
    "a_numpy_2d_array[:,0]"
   ]
  },
  {
   "cell_type": "markdown",
   "metadata": {},
   "source": [
    "**Q: Can you switch the [row,column] indices on this array?**"
   ]
  },
  {
   "cell_type": "markdown",
   "metadata": {},
   "source": [
    "<h1><center> Reshaping Arrays </center></h1>"
   ]
  },
  {
   "cell_type": "code",
   "execution_count": null,
   "metadata": {},
   "outputs": [],
   "source": [
    "numpy_digits_array = np.arange(0,9)\n",
    "print(numpy_digits_array, \" Shape: \", numpy_digits_array.shape)"
   ]
  },
  {
   "cell_type": "code",
   "execution_count": null,
   "metadata": {},
   "outputs": [],
   "source": [
    "numpy_digits_array_2D = numpy_digits_array.reshape([3,3])\n",
    "print(numpy_digits_array_2D, \" Shape: \", numpy_digits_array_2D.shape)"
   ]
  },
  {
   "cell_type": "code",
   "execution_count": null,
   "metadata": {},
   "outputs": [],
   "source": [
    "numpy_digits_array_2D_back_to_1D = numpy_digits_array_2D.reshape(-1)\n",
    "print(numpy_digits_array_2D_back_to_1D, \" Shape: \", numpy_digits_array_2D_back_to_1D.shape)"
   ]
  },
  {
   "cell_type": "code",
   "execution_count": null,
   "metadata": {},
   "outputs": [],
   "source": [
    "numpy_with_extra_dim = np.expand_dims(numpy_digits_array_2D_back_to_1D, 0)\n",
    "print(numpy_with_extra_dim, \" Shape: \", numpy_with_extra_dim.shape)"
   ]
  },
  {
   "cell_type": "markdown",
   "metadata": {},
   "source": [
    "**Q:How would you add an extra length one dimension at the end of the numpy_digits_array_2D_back_to_1D to make it shape (9,1)?**"
   ]
  },
  {
   "cell_type": "markdown",
   "metadata": {},
   "source": [
    "<h1><center> Arithmetic </center></h1>"
   ]
  },
  {
   "cell_type": "code",
   "execution_count": null,
   "metadata": {},
   "outputs": [],
   "source": [
    "a = np.array([[10,11],[12,13]])\n",
    "b = np.array([[1,-1],[-1,1]])\n",
    "print(\"a:\\n\", a)\n",
    "print(\"b:\\n\", b)"
   ]
  },
  {
   "cell_type": "code",
   "execution_count": null,
   "metadata": {},
   "outputs": [],
   "source": [
    "print(\"a*b:\\n\", a*b)\n",
    "print(\"a+b:\\n\", a+b)"
   ]
  },
  {
   "cell_type": "code",
   "execution_count": null,
   "metadata": {},
   "outputs": [],
   "source": [
    "print(\"Matrix multiplication of a and b:\\n\",np.matmul(a,b))"
   ]
  },
  {
   "cell_type": "markdown",
   "metadata": {},
   "source": [
    "**Q: Can you get the determinant of these matrices?**"
   ]
  },
  {
   "cell_type": "markdown",
   "metadata": {},
   "source": [
    "<h1><center> Broadcasting </center></h1>"
   ]
  },
  {
   "cell_type": "code",
   "execution_count": null,
   "metadata": {},
   "outputs": [],
   "source": [
    "a = np.array([2.0, 4.0, 6.0])\n",
    "b = np.array([7.0, 8.0, 9.0, 10.0])\n",
    "print(a,\"  \",b)"
   ]
  },
  {
   "cell_type": "code",
   "execution_count": null,
   "metadata": {},
   "outputs": [],
   "source": [
    "a+b"
   ]
  },
  {
   "cell_type": "code",
   "execution_count": null,
   "metadata": {},
   "outputs": [],
   "source": [
    "a.reshape(3,1)+b"
   ]
  },
  {
   "cell_type": "code",
   "execution_count": null,
   "metadata": {},
   "outputs": [],
   "source": [
    "a+b[:3]"
   ]
  },
  {
   "cell_type": "markdown",
   "metadata": {},
   "source": [
    "<h1><center> Random Variables </center></h1>"
   ]
  },
  {
   "cell_type": "code",
   "execution_count": null,
   "metadata": {},
   "outputs": [],
   "source": [
    "print(\"1 random uniform number:\\n\", np.random.uniform(low=0,high=1))\n",
    "print(\"3 random uniform numbers:\\n\", np.random.uniform(low=0,high=1,size=3))"
   ]
  },
  {
   "cell_type": "code",
   "execution_count": null,
   "metadata": {},
   "outputs": [],
   "source": [
    "print(\"3 random normally distributed numbers:\\n\", np.random.normal(loc=0.0, scale=1.0,size=3))"
   ]
  },
  {
   "cell_type": "code",
   "execution_count": null,
   "metadata": {},
   "outputs": [],
   "source": [
    "print(\"3 random Binomially distributed numbers:\\n\", np.random.binomial(n=1, p=0.5, size=3))"
   ]
  },
  {
   "cell_type": "markdown",
   "metadata": {},
   "source": [
    "**Q: Can you get get 10 Poisson random variables from a Poisson distribution of mean 1?**"
   ]
  }
 ],
 "metadata": {
  "kernelspec": {
   "display_name": "Python 3",
   "language": "python",
   "name": "python3"
  },
  "language_info": {
   "codemirror_mode": {
    "name": "ipython",
    "version": 3
   },
   "file_extension": ".py",
   "mimetype": "text/x-python",
   "name": "python",
   "nbconvert_exporter": "python",
   "pygments_lexer": "ipython3",
   "version": "3.7.0"
  }
 },
 "nbformat": 4,
 "nbformat_minor": 2
}
